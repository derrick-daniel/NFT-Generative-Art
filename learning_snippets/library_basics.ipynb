{
 "cells": [
  {
   "cell_type": "markdown",
   "metadata": {},
   "source": [
    "### `PIL` (Python Imaging Library)"
   ]
  },
  {
   "cell_type": "markdown",
   "metadata": {},
   "source": [
    "#### Image"
   ]
  },
  {
   "cell_type": "code",
   "execution_count": 139,
   "metadata": {},
   "outputs": [],
   "source": [
    "from PIL import Image"
   ]
  },
  {
   "cell_type": "code",
   "execution_count": 140,
   "metadata": {},
   "outputs": [
    {
     "data": {
      "image/png": "[encoded data removed]",
      "text/plain": [
       "<PIL.Image.Image image mode=RGB size=128x128>"
      ]
     },
     "execution_count": 140,
     "metadata": {},
     "output_type": "execute_result"
    }
   ],
   "source": [
    "# Creating a new image\n",
    "image = Image.new(\n",
    "    mode=\"RGB\",\n",
    "    size=(128, 128),\n",
    "    color=\"black\"\n",
    ")\n",
    "\n",
    "image"
   ]
  },
  {
   "cell_type": "code",
   "execution_count": 141,
   "metadata": {},
   "outputs": [
    {
     "data": {
      "image/png": "[encoded data removed]",
      "text/plain": [
       "<PIL.Image.Image image mode=RGB size=50x50>"
      ]
     },
     "execution_count": 141,
     "metadata": {},
     "output_type": "execute_result"
    }
   ],
   "source": [
    "# Resizing a image\n",
    "resized_image = image.resize((50, 50))\n",
    "\n",
    "resized_image"
   ]
  },
  {
   "cell_type": "markdown",
   "metadata": {},
   "source": [
    "#### ImageDraw"
   ]
  },
  {
   "cell_type": "code",
   "execution_count": 142,
   "metadata": {},
   "outputs": [],
   "source": [
    "from PIL import ImageDraw"
   ]
  },
  {
   "cell_type": "code",
   "execution_count": 162,
   "metadata": {},
   "outputs": [
    {
     "data": {
      "image/png": "[encoded data removed]",
      "text/plain": [
       "<PIL.Image.Image image mode=RGB size=128x128>"
      ]
     },
     "execution_count": 162,
     "metadata": {},
     "output_type": "execute_result"
    }
   ],
   "source": [
    "# Creating drawing context for an image\n",
    "draw = ImageDraw.Draw(image)\n",
    "\n",
    "# Drawing a line between two points\n",
    "draw.line(\n",
    "    xy=((0, 0), (128, 128)),\n",
    "    fill=\"white\",\n",
    "    width=2\n",
    ")\n",
    "\n",
    "image"
   ]
  },
  {
   "cell_type": "code",
   "execution_count": 174,
   "metadata": {},
   "outputs": [
    {
     "data": {
      "image/png": "[encoded data removed]",
      "text/plain": [
       "<PIL.Image.Image image mode=RGB size=400x300>"
      ]
     },
     "execution_count": 174,
     "metadata": {},
     "output_type": "execute_result"
    }
   ],
   "source": [
    "# Drawing a rectangle\n",
    "image = Image.new(\"RGB\", (400, 300), \"white\")\n",
    "\n",
    "draw = ImageDraw.Draw(image)\n",
    "top, left, right, bottom = 50, 100, 300, 200\n",
    "draw.rectangle(\n",
    "    xy=(left, top, right, bottom),\n",
    "    outline=\"black\",\n",
    "    width=2, # width of the outline\n",
    "    fill=\"red\"\n",
    ")\n",
    "\n",
    "image"
   ]
  },
  {
   "cell_type": "markdown",
   "metadata": {},
   "source": [
    "#### ImageChops"
   ]
  },
  {
   "cell_type": "code",
   "execution_count": 144,
   "metadata": {},
   "outputs": [],
   "source": [
    "# Chops = Channel operations\n",
    "from PIL import ImageChops"
   ]
  },
  {
   "cell_type": "code",
   "execution_count": 145,
   "metadata": {},
   "outputs": [
    {
     "data": {
      "image/png": "[encoded data removed]",
      "text/plain": [
       "<PIL.Image.Image image mode=RGB size=128x128>"
      ]
     },
     "execution_count": 145,
     "metadata": {},
     "output_type": "execute_result"
    }
   ],
   "source": [
    "# Creating a solid red square\n",
    "red_square = Image.new(\"RGB\", (128, 128), \"red\")\n",
    "\n",
    "# Creating a solid green square\n",
    "green_square = Image.new(\"RGB\", (128, 128), \"green\")\n",
    "\n",
    "# Adding two images\n",
    "combined_square = ImageChops.add(red_square, green_square)\n",
    "## red_square = (255, 0, 0)\n",
    "## green_square = (0, 255, 0)\n",
    "## red_square + green_square = (255, 255, 0) \n",
    "\n",
    "combined_square"
   ]
  },
  {
   "cell_type": "markdown",
   "metadata": {},
   "source": [
    "### `random`"
   ]
  },
  {
   "cell_type": "code",
   "execution_count": 146,
   "metadata": {},
   "outputs": [],
   "source": [
    "import random"
   ]
  },
  {
   "cell_type": "markdown",
   "metadata": {},
   "source": [
    "#### random"
   ]
  },
  {
   "cell_type": "code",
   "execution_count": 147,
   "metadata": {},
   "outputs": [
    {
     "data": {
      "text/plain": [
       "0.6936235144938826"
      ]
     },
     "execution_count": 147,
     "metadata": {},
     "output_type": "execute_result"
    }
   ],
   "source": [
    "# Returns a randome floating point in the range [0, 1)\n",
    "random_float_num = random.random()\n",
    "\n",
    "random_float_num"
   ]
  },
  {
   "cell_type": "markdown",
   "metadata": {},
   "source": [
    "#### randint"
   ]
  },
  {
   "cell_type": "code",
   "execution_count": 148,
   "metadata": {},
   "outputs": [
    {
     "data": {
      "text/plain": [
       "6"
      ]
     },
     "execution_count": 148,
     "metadata": {},
     "output_type": "execute_result"
    }
   ],
   "source": [
    "# Returns a random integer between the specified integers\n",
    "# [1, 10]\n",
    "random_int_num = random.randint(1, 10)\n",
    "\n",
    "random_int_num"
   ]
  },
  {
   "cell_type": "markdown",
   "metadata": {},
   "source": [
    "### `colorsys`"
   ]
  },
  {
   "cell_type": "code",
   "execution_count": 149,
   "metadata": {},
   "outputs": [],
   "source": [
    "from colorsys import hsv_to_rgb"
   ]
  },
  {
   "cell_type": "code",
   "execution_count": 150,
   "metadata": {},
   "outputs": [
    {
     "name": "stdout",
     "output_type": "stream",
     "text": [
      "HSV: (0, 1, 1) => RGB: (1.00, 0.00, 0.00)\n",
      "HSV: (0.33, 1, 1) => RGB: (0.02, 1.00, 0.00)\n",
      "HSV: (0.66, 1, 1) => RGB: (0.00, 0.04, 1.00)\n"
     ]
    }
   ],
   "source": [
    "# Defining some HSV colors\n",
    "hsv_colors = [\n",
    "    (0, 1, 1), # Red (hue=0)\n",
    "    (0.33, 1, 1), # Green (hue=0.33)\n",
    "    (0.66, 1, 1), # Blue (hue=0.66)\n",
    "]\n",
    "\n",
    "for hsv in hsv_colors:\n",
    "    r, g, b = hsv_to_rgb(*hsv)\n",
    "    print(f\"HSV: {hsv} => RGB: ({r:.2f}, {g:.2f}, {b:.2f})\")"
   ]
  },
  {
   "cell_type": "code",
   "execution_count": 166,
   "metadata": {},
   "outputs": [
    {
     "name": "stdout",
     "output_type": "stream",
     "text": [
      "HSV: (0, 1, 1) => RGB: (255, 0, 0)\n",
      "HSV: (0.33, 1, 1) => RGB: (5, 255, 0)\n",
      "HSV: (0.66, 1, 1) => RGB: (0, 10, 255)\n"
     ]
    }
   ],
   "source": [
    "# The RGB values are floats between 0 and 1\n",
    "# Multiply by 255 to have values between [0, 255]\n",
    "for hsv in hsv_colors:\n",
    "    r, g, b = hsv_to_rgb(*hsv)\n",
    "    rgb = tuple(round(val*255) for val in (r, g, b))\n",
    "    print(f\"HSV: {hsv} => RGB: {rgb}\")"
   ]
  },
  {
   "cell_type": "markdown",
   "metadata": {},
   "source": [
    "### `os`"
   ]
  },
  {
   "cell_type": "code",
   "execution_count": 153,
   "metadata": {},
   "outputs": [],
   "source": [
    "import os"
   ]
  },
  {
   "cell_type": "code",
   "execution_count": 154,
   "metadata": {},
   "outputs": [],
   "source": [
    "os.mkdir(\"./gonna_delete\")"
   ]
  },
  {
   "cell_type": "code",
   "execution_count": 155,
   "metadata": {},
   "outputs": [],
   "source": [
    "os.rmdir(\"./gonna_delete\")"
   ]
  },
  {
   "cell_type": "code",
   "execution_count": 156,
   "metadata": {},
   "outputs": [],
   "source": [
    "os.makedirs(\"./gonna_delete\")"
   ]
  },
  {
   "cell_type": "code",
   "execution_count": 157,
   "metadata": {},
   "outputs": [],
   "source": [
    "os.removedirs(\"./gonna_delete/\")"
   ]
  },
  {
   "cell_type": "markdown",
   "metadata": {},
   "source": [
    "### `glob`"
   ]
  },
  {
   "cell_type": "code",
   "execution_count": 158,
   "metadata": {},
   "outputs": [],
   "source": [
    "from glob import glob"
   ]
  },
  {
   "cell_type": "code",
   "execution_count": 159,
   "metadata": {},
   "outputs": [],
   "source": [
    "red_square.save(\"./red_sqaure.png\")\n",
    "green_square.save(\"./green_sqaure.png\")\n",
    "combined_square.save(\"./combined_sqaure.png\")"
   ]
  },
  {
   "cell_type": "code",
   "execution_count": 160,
   "metadata": {},
   "outputs": [
    {
     "name": "stdout",
     "output_type": "stream",
     "text": [
      "['.\\\\combined_sqaure.png', '.\\\\green_sqaure.png', '.\\\\red_sqaure.png']\n"
     ]
    }
   ],
   "source": [
    "image_files = glob(\"./*.png\")\n",
    "print(image_files)"
   ]
  },
  {
   "cell_type": "code",
   "execution_count": 161,
   "metadata": {},
   "outputs": [],
   "source": [
    "for img_path in image_files:\n",
    "    os.remove(img_path)"
   ]
  }
 ],
 "metadata": {
  "kernelspec": {
   "display_name": "base",
   "language": "python",
   "name": "python3"
  },
  "language_info": {
   "codemirror_mode": {
    "name": "ipython",
    "version": 3
   },
   "file_extension": ".py",
   "mimetype": "text/x-python",
   "name": "python",
   "nbconvert_exporter": "python",
   "pygments_lexer": "ipython3",
   "version": "3.10.9"
  }
 },
 "nbformat": 4,
 "nbformat_minor": 2
}
