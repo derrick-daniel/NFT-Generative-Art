{
 "cells": [
  {
   "cell_type": "markdown",
   "metadata": {},
   "source": [
    "#### Interpolation between two colors"
   ]
  },
  {
   "cell_type": "code",
   "execution_count": 128,
   "metadata": {},
   "outputs": [
    {
     "data": {
      "text/plain": [
       "(127, 0, 127)"
      ]
     },
     "execution_count": 128,
     "metadata": {},
     "output_type": "execute_result"
    }
   ],
   "source": [
    "# Own implementation\n",
    "def interpolate(factor, start_color, end_color):\n",
    "    result_color = []\n",
    "\n",
    "    # Iterate through RGB channel\n",
    "    for i in range(3):\n",
    "        # Difference between end and start color\n",
    "        delta = end_color[i] - start_color[i]\n",
    "\n",
    "        # Difference (delta) * factor\n",
    "        ## It gives the amount by which the start\n",
    "        ## value should change to move towards\n",
    "        ## the end value\n",
    "        change = delta * factor\n",
    "\n",
    "        # Apply the change to the start value\n",
    "        result_value = start_color[i] + change\n",
    "\n",
    "        result_color.append(int(result_value))\n",
    "    \n",
    "    return tuple(result_color)\n",
    "\n",
    "# Main\n",
    "start_color = (255, 0, 0) # Red\n",
    "end_color = (0, 0, 255) # Blue\n",
    "\n",
    "result = interpolate(0.5, start_color, end_color)\n",
    "\n",
    "result"
   ]
  },
  {
   "cell_type": "code",
   "execution_count": 129,
   "metadata": {},
   "outputs": [
    {
     "name": "stdout",
     "output_type": "stream",
     "text": [
      "(127, 0, 127)\n"
     ]
    }
   ],
   "source": [
    "# Using Pillow library\n",
    "\n",
    "from PIL import Image\n",
    "\n",
    "def pillow_interpolate(factor, start_color, end_color):\n",
    "    start_img = Image.new(\"RGB\", (1, 1), start_color)\n",
    "    end_img = Image.new(\"RGB\", (1, 1), end_color)\n",
    "    return Image.blend(start_img, end_img, factor).getpixel((0, 0))\n",
    "\n",
    "start = (255, 0, 0)  # Red\n",
    "end = (0, 0, 255)    # Blue\n",
    "result = pillow_interpolate(0.5, start, end)\n",
    "print(result)\n"
   ]
  },
  {
   "cell_type": "code",
   "execution_count": 130,
   "metadata": {},
   "outputs": [
    {
     "data": {
      "image/png": "[encoded data removed]",
      "text/plain": [
       "<PIL.Image.Image image mode=RGB size=128x128>"
      ]
     },
     "execution_count": 130,
     "metadata": {},
     "output_type": "execute_result"
    }
   ],
   "source": [
    "start_img = Image.new(\"RGB\", (128, 128), start_color)\n",
    "end_img = Image.new(\"RGB\", (128, 128), end_color)\n",
    "Image.blend(start_img, end_img, alpha=0.5)"
   ]
  },
  {
   "cell_type": "code",
   "execution_count": 131,
   "metadata": {},
   "outputs": [
    {
     "data": {
      "text/plain": [
       "(127, 0, 127)"
      ]
     },
     "execution_count": 131,
     "metadata": {},
     "output_type": "execute_result"
    }
   ],
   "source": [
    "Image.blend(start_img, end_img, alpha=0.5).getpixel((0, 0))"
   ]
  },
  {
   "cell_type": "markdown",
   "metadata": {},
   "source": [
    "#### Centering the lines on the canvas"
   ]
  },
  {
   "cell_type": "code",
   "execution_count": 132,
   "metadata": {},
   "outputs": [],
   "source": [
    "from PIL import Image, ImageDraw"
   ]
  },
  {
   "cell_type": "code",
   "execution_count": 133,
   "metadata": {},
   "outputs": [
    {
     "name": "stdout",
     "output_type": "stream",
     "text": [
      "[(30, 30), (50, 50), (70, 70)]\n"
     ]
    },
    {
     "data": {
      "image/png": "[encoded data removed]",
      "text/plain": [
       "<PIL.Image.Image image mode=RGB size=100x100>"
      ]
     },
     "execution_count": 133,
     "metadata": {},
     "output_type": "execute_result"
    }
   ],
   "source": [
    "# Create an image\n",
    "image_size = (100, 100)\n",
    "image = Image.new(\"RGB\", image_size, \"white\")\n",
    "\n",
    "draw = ImageDraw.Draw(image)\n",
    "\n",
    "# Original points\n",
    "points = [(10, 20), (30, 40), (50, 60)]\n",
    "\n",
    "# Draw the original points in the image as red\n",
    "for point in points:\n",
    "    draw.rectangle(\n",
    "        xy=(point[0]-1, point[1]-1, point[0]+1, point[1]+1),\n",
    "        fill=\"red\"\n",
    "    )\n",
    "\n",
    "# To Find the `Bounding Box` points \n",
    "## -> smallest rectangle that encloses\n",
    "## -> all the points\n",
    "## Find the min and max of XY coordinates\n",
    "X, Y = [], []\n",
    "for point in points: # [(10, 20), (30, 40), (50, 60)]\n",
    "    X.append(point[0]) # [10, 30, 50]\n",
    "    Y.append(point[1]) # [20, 40, 60]\n",
    "\n",
    "min_X = min(X)\n",
    "max_X = max(X)\n",
    "min_Y = min(Y)\n",
    "max_Y = max(Y)\n",
    "\n",
    "# Calculate center of the bounding box\n",
    "center_X = (min_X + max_X) // 2\n",
    "center_Y = (min_Y + max_Y) // 2\n",
    "\n",
    "# Calculate center of rectangle\n",
    "center_width = image_size[0] // 2\n",
    "center_height = image_size[1] // 2\n",
    "\n",
    "# Shift required for centering\n",
    "delta_X = center_width - center_X\n",
    "delta_Y = center_height - center_Y\n",
    "\n",
    "\n",
    "# Apply the shift\n",
    "centered_points = []\n",
    "\n",
    "for point in points:\n",
    "    new_X = point[0] + delta_X\n",
    "    new_Y = point[1] + delta_Y\n",
    "    centered_points.append((new_X, new_Y))\n",
    "\n",
    "\n",
    "# Draw the centered points in the image as red\n",
    "for point in centered_points:\n",
    "    draw.rectangle(\n",
    "        xy=(point[0]-1, point[1]-1, point[0]+1, point[1]+1),\n",
    "        fill=\"blue\"\n",
    "    )\n",
    "\n",
    "print(centered_points)\n",
    "\n",
    "image"
   ]
  },
  {
   "cell_type": "code",
   "execution_count": 134,
   "metadata": {},
   "outputs": [
    {
     "name": "stdout",
     "output_type": "stream",
     "text": [
      "[(30, 30), (50, 50), (70, 70)]\n"
     ]
    }
   ],
   "source": [
    "# Original points\n",
    "points = [(10, 20), (30, 40), (50, 60)]\n",
    "\n",
    "# Bounding box points\n",
    "min_X = min(p[0] for p in points)\n",
    "max_X = max(p[0] for p in points)\n",
    "min_Y = min(p[1] for p in points)\n",
    "max_Y = max(p[1] for p in points)\n",
    "\n",
    "image_size = 100\n",
    "\n",
    "# Center of bounding box\n",
    "center_X = (min_X + max_X) // 2\n",
    "center_Y = (min_Y + max_Y) // 2\n",
    "\n",
    "# Center of rectangle\n",
    "center_W = image_size // 2\n",
    "center_H = image_size //2\n",
    "\n",
    "# shift required for centering \n",
    "delta_X = center_W - center_X\n",
    "delta_Y = center_H - center_Y\n",
    "\n",
    "centered_points = []\n",
    "for point in points:\n",
    "    new_X = point[0] + delta_X\n",
    "    new_Y = point[1] + delta_Y\n",
    "    centered_points.append((new_X, new_Y))\n",
    "\n",
    "print(centered_points)\n"
   ]
  },
  {
   "cell_type": "markdown",
   "metadata": {},
   "source": [
    "##### Anti-aliasing with LANCZOS"
   ]
  },
  {
   "cell_type": "code",
   "execution_count": 135,
   "metadata": {},
   "outputs": [
    {
     "data": {
      "image/png": "[encoded data removed]",
      "text/plain": [
       "<PIL.Image.Image image mode=RGB size=500x500>"
      ]
     },
     "execution_count": 135,
     "metadata": {},
     "output_type": "execute_result"
    }
   ],
   "source": [
    "resized_image = image.resize((500, 500))\n",
    "resized_image"
   ]
  },
  {
   "cell_type": "code",
   "execution_count": 136,
   "metadata": {},
   "outputs": [
    {
     "data": {
      "image/png": "[encoded data removed]",
      "text/plain": [
       "<PIL.Image.Image image mode=RGB size=500x500>"
      ]
     },
     "execution_count": 136,
     "metadata": {},
     "output_type": "execute_result"
    }
   ],
   "source": [
    "resized_image_LANCZOS = image.resize((500, 500), Image.LANCZOS)\n",
    "resized_image_LANCZOS"
   ]
  }
 ],
 "metadata": {
  "kernelspec": {
   "display_name": "base",
   "language": "python",
   "name": "python3"
  },
  "language_info": {
   "codemirror_mode": {
    "name": "ipython",
    "version": 3
   },
   "file_extension": ".py",
   "mimetype": "text/x-python",
   "name": "python",
   "nbconvert_exporter": "python",
   "pygments_lexer": "ipython3",
   "version": "3.10.9"
  }
 },
 "nbformat": 4,
 "nbformat_minor": 2
}
